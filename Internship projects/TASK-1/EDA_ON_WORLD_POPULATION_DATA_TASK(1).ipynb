{
  "nbformat": 4,
  "nbformat_minor": 0,
  "metadata": {
    "colab": {
      "provenance": []
    },
    "kernelspec": {
      "name": "python3",
      "display_name": "Python 3"
    },
    "language_info": {
      "name": "python"
    }
  },
  "cells": [
    {
      "cell_type": "markdown",
      "source": [
        "**Importing Necessary Libraries**"
      ],
      "metadata": {
        "id": "HgvZd2mwoKr2"
      }
    },
    {
      "cell_type": "code",
      "execution_count": 1,
      "metadata": {
        "id": "8F_VgD15nW7z"
      },
      "outputs": [],
      "source": [
        "import pandas as pd\n",
        "import matplotlib.pyplot as plt\n",
        "import numpy as np"
      ]
    },
    {
      "cell_type": "markdown",
      "source": [
        "**Importing the CSV file**"
      ],
      "metadata": {
        "id": "-M1DxF_Jo-9c"
      }
    },
    {
      "cell_type": "code",
      "source": [
        "Dataset=pd.read_csv(\"world_data.csv\")"
      ],
      "metadata": {
        "id": "3Q4_m1boodO-"
      },
      "execution_count": 2,
      "outputs": []
    },
    {
      "cell_type": "markdown",
      "source": [
        "**Displaying Top 5 Rows of the Dataset**"
      ],
      "metadata": {
        "id": "larg58kfo4p2"
      }
    },
    {
      "cell_type": "code",
      "source": [
        "Dataset.head(5)"
      ],
      "metadata": {
        "colab": {
          "base_uri": "https://localhost:8080/",
          "height": 394
        },
        "id": "K9qLk-TWos10",
        "outputId": "3b042885-bf00-42e9-f3d9-5ed097069bd9"
      },
      "execution_count": 3,
      "outputs": [
        {
          "output_type": "execute_result",
          "data": {
            "text/plain": [
              "                  Country Name Country Code     Indicator Name Indicator Code  \\\n",
              "0                        Aruba          ABW  Population, total    SP.POP.TOTL   \n",
              "1  Africa Eastern and Southern          AFE  Population, total    SP.POP.TOTL   \n",
              "2                  Afghanistan          AFG  Population, total    SP.POP.TOTL   \n",
              "3   Africa Western and Central          AFW  Population, total    SP.POP.TOTL   \n",
              "4                       Angola          AGO  Population, total    SP.POP.TOTL   \n",
              "\n",
              "          1960         1961         1962         1963         1964  \\\n",
              "0      54608.0      55811.0      56682.0      57475.0      58178.0   \n",
              "1  130692579.0  134169237.0  137835590.0  141630546.0  145605995.0   \n",
              "2    8622466.0    8790140.0    8969047.0    9157465.0    9355514.0   \n",
              "3   97256290.0   99314028.0  101445032.0  103667517.0  105959979.0   \n",
              "4    5357195.0    5441333.0    5521400.0    5599827.0    5673199.0   \n",
              "\n",
              "          1965  ...         2014         2015         2016         2017  \\\n",
              "0      58782.0  ...     103594.0     104257.0     104874.0     105439.0   \n",
              "1  149742351.0  ...  583651101.0  600008424.0  616377605.0  632746570.0   \n",
              "2    9565147.0  ...   32716210.0   33753499.0   34636207.0   35643418.0   \n",
              "3  108336203.0  ...  397855507.0  408690375.0  419778384.0  431138704.0   \n",
              "4    5736582.0  ...   27128337.0   28127721.0   29154746.0   30208628.0   \n",
              "\n",
              "          2018         2019         2020         2021         2022  \\\n",
              "0     105962.0     106442.0     106585.0     106537.0     106445.0   \n",
              "1  649757148.0  667242986.0  685112979.0  702977106.0  720859132.0   \n",
              "2   36686784.0   37769499.0   38972230.0   40099462.0   41128771.0   \n",
              "3  442646825.0  454306063.0  466189102.0  478185907.0  490330870.0   \n",
              "4   31273533.0   32353588.0   33428486.0   34503774.0   35588987.0   \n",
              "\n",
              "          2023  \n",
              "0     106277.0  \n",
              "1  739108306.0  \n",
              "2   42239854.0  \n",
              "3  502789511.0  \n",
              "4   36684202.0  \n",
              "\n",
              "[5 rows x 68 columns]"
            ],
            "text/html": [
              "\n",
              "  <div id=\"df-7c996314-2435-40d9-8ada-1eec18b80c27\" class=\"colab-df-container\">\n",
              "    <div>\n",
              "<style scoped>\n",
              "    .dataframe tbody tr th:only-of-type {\n",
              "        vertical-align: middle;\n",
              "    }\n",
              "\n",
              "    .dataframe tbody tr th {\n",
              "        vertical-align: top;\n",
              "    }\n",
              "\n",
              "    .dataframe thead th {\n",
              "        text-align: right;\n",
              "    }\n",
              "</style>\n",
              "<table border=\"1\" class=\"dataframe\">\n",
              "  <thead>\n",
              "    <tr style=\"text-align: right;\">\n",
              "      <th></th>\n",
              "      <th>Country Name</th>\n",
              "      <th>Country Code</th>\n",
              "      <th>Indicator Name</th>\n",
              "      <th>Indicator Code</th>\n",
              "      <th>1960</th>\n",
              "      <th>1961</th>\n",
              "      <th>1962</th>\n",
              "      <th>1963</th>\n",
              "      <th>1964</th>\n",
              "      <th>1965</th>\n",
              "      <th>...</th>\n",
              "      <th>2014</th>\n",
              "      <th>2015</th>\n",
              "      <th>2016</th>\n",
              "      <th>2017</th>\n",
              "      <th>2018</th>\n",
              "      <th>2019</th>\n",
              "      <th>2020</th>\n",
              "      <th>2021</th>\n",
              "      <th>2022</th>\n",
              "      <th>2023</th>\n",
              "    </tr>\n",
              "  </thead>\n",
              "  <tbody>\n",
              "    <tr>\n",
              "      <th>0</th>\n",
              "      <td>Aruba</td>\n",
              "      <td>ABW</td>\n",
              "      <td>Population, total</td>\n",
              "      <td>SP.POP.TOTL</td>\n",
              "      <td>54608.0</td>\n",
              "      <td>55811.0</td>\n",
              "      <td>56682.0</td>\n",
              "      <td>57475.0</td>\n",
              "      <td>58178.0</td>\n",
              "      <td>58782.0</td>\n",
              "      <td>...</td>\n",
              "      <td>103594.0</td>\n",
              "      <td>104257.0</td>\n",
              "      <td>104874.0</td>\n",
              "      <td>105439.0</td>\n",
              "      <td>105962.0</td>\n",
              "      <td>106442.0</td>\n",
              "      <td>106585.0</td>\n",
              "      <td>106537.0</td>\n",
              "      <td>106445.0</td>\n",
              "      <td>106277.0</td>\n",
              "    </tr>\n",
              "    <tr>\n",
              "      <th>1</th>\n",
              "      <td>Africa Eastern and Southern</td>\n",
              "      <td>AFE</td>\n",
              "      <td>Population, total</td>\n",
              "      <td>SP.POP.TOTL</td>\n",
              "      <td>130692579.0</td>\n",
              "      <td>134169237.0</td>\n",
              "      <td>137835590.0</td>\n",
              "      <td>141630546.0</td>\n",
              "      <td>145605995.0</td>\n",
              "      <td>149742351.0</td>\n",
              "      <td>...</td>\n",
              "      <td>583651101.0</td>\n",
              "      <td>600008424.0</td>\n",
              "      <td>616377605.0</td>\n",
              "      <td>632746570.0</td>\n",
              "      <td>649757148.0</td>\n",
              "      <td>667242986.0</td>\n",
              "      <td>685112979.0</td>\n",
              "      <td>702977106.0</td>\n",
              "      <td>720859132.0</td>\n",
              "      <td>739108306.0</td>\n",
              "    </tr>\n",
              "    <tr>\n",
              "      <th>2</th>\n",
              "      <td>Afghanistan</td>\n",
              "      <td>AFG</td>\n",
              "      <td>Population, total</td>\n",
              "      <td>SP.POP.TOTL</td>\n",
              "      <td>8622466.0</td>\n",
              "      <td>8790140.0</td>\n",
              "      <td>8969047.0</td>\n",
              "      <td>9157465.0</td>\n",
              "      <td>9355514.0</td>\n",
              "      <td>9565147.0</td>\n",
              "      <td>...</td>\n",
              "      <td>32716210.0</td>\n",
              "      <td>33753499.0</td>\n",
              "      <td>34636207.0</td>\n",
              "      <td>35643418.0</td>\n",
              "      <td>36686784.0</td>\n",
              "      <td>37769499.0</td>\n",
              "      <td>38972230.0</td>\n",
              "      <td>40099462.0</td>\n",
              "      <td>41128771.0</td>\n",
              "      <td>42239854.0</td>\n",
              "    </tr>\n",
              "    <tr>\n",
              "      <th>3</th>\n",
              "      <td>Africa Western and Central</td>\n",
              "      <td>AFW</td>\n",
              "      <td>Population, total</td>\n",
              "      <td>SP.POP.TOTL</td>\n",
              "      <td>97256290.0</td>\n",
              "      <td>99314028.0</td>\n",
              "      <td>101445032.0</td>\n",
              "      <td>103667517.0</td>\n",
              "      <td>105959979.0</td>\n",
              "      <td>108336203.0</td>\n",
              "      <td>...</td>\n",
              "      <td>397855507.0</td>\n",
              "      <td>408690375.0</td>\n",
              "      <td>419778384.0</td>\n",
              "      <td>431138704.0</td>\n",
              "      <td>442646825.0</td>\n",
              "      <td>454306063.0</td>\n",
              "      <td>466189102.0</td>\n",
              "      <td>478185907.0</td>\n",
              "      <td>490330870.0</td>\n",
              "      <td>502789511.0</td>\n",
              "    </tr>\n",
              "    <tr>\n",
              "      <th>4</th>\n",
              "      <td>Angola</td>\n",
              "      <td>AGO</td>\n",
              "      <td>Population, total</td>\n",
              "      <td>SP.POP.TOTL</td>\n",
              "      <td>5357195.0</td>\n",
              "      <td>5441333.0</td>\n",
              "      <td>5521400.0</td>\n",
              "      <td>5599827.0</td>\n",
              "      <td>5673199.0</td>\n",
              "      <td>5736582.0</td>\n",
              "      <td>...</td>\n",
              "      <td>27128337.0</td>\n",
              "      <td>28127721.0</td>\n",
              "      <td>29154746.0</td>\n",
              "      <td>30208628.0</td>\n",
              "      <td>31273533.0</td>\n",
              "      <td>32353588.0</td>\n",
              "      <td>33428486.0</td>\n",
              "      <td>34503774.0</td>\n",
              "      <td>35588987.0</td>\n",
              "      <td>36684202.0</td>\n",
              "    </tr>\n",
              "  </tbody>\n",
              "</table>\n",
              "<p>5 rows × 68 columns</p>\n",
              "</div>\n",
              "    <div class=\"colab-df-buttons\">\n",
              "\n",
              "  <div class=\"colab-df-container\">\n",
              "    <button class=\"colab-df-convert\" onclick=\"convertToInteractive('df-7c996314-2435-40d9-8ada-1eec18b80c27')\"\n",
              "            title=\"Convert this dataframe to an interactive table.\"\n",
              "            style=\"display:none;\">\n",
              "\n",
              "  <svg xmlns=\"http://www.w3.org/2000/svg\" height=\"24px\" viewBox=\"0 -960 960 960\">\n",
              "    <path d=\"M120-120v-720h720v720H120Zm60-500h600v-160H180v160Zm220 220h160v-160H400v160Zm0 220h160v-160H400v160ZM180-400h160v-160H180v160Zm440 0h160v-160H620v160ZM180-180h160v-160H180v160Zm440 0h160v-160H620v160Z\"/>\n",
              "  </svg>\n",
              "    </button>\n",
              "\n",
              "  <style>\n",
              "    .colab-df-container {\n",
              "      display:flex;\n",
              "      gap: 12px;\n",
              "    }\n",
              "\n",
              "    .colab-df-convert {\n",
              "      background-color: #E8F0FE;\n",
              "      border: none;\n",
              "      border-radius: 50%;\n",
              "      cursor: pointer;\n",
              "      display: none;\n",
              "      fill: #1967D2;\n",
              "      height: 32px;\n",
              "      padding: 0 0 0 0;\n",
              "      width: 32px;\n",
              "    }\n",
              "\n",
              "    .colab-df-convert:hover {\n",
              "      background-color: #E2EBFA;\n",
              "      box-shadow: 0px 1px 2px rgba(60, 64, 67, 0.3), 0px 1px 3px 1px rgba(60, 64, 67, 0.15);\n",
              "      fill: #174EA6;\n",
              "    }\n",
              "\n",
              "    .colab-df-buttons div {\n",
              "      margin-bottom: 4px;\n",
              "    }\n",
              "\n",
              "    [theme=dark] .colab-df-convert {\n",
              "      background-color: #3B4455;\n",
              "      fill: #D2E3FC;\n",
              "    }\n",
              "\n",
              "    [theme=dark] .colab-df-convert:hover {\n",
              "      background-color: #434B5C;\n",
              "      box-shadow: 0px 1px 3px 1px rgba(0, 0, 0, 0.15);\n",
              "      filter: drop-shadow(0px 1px 2px rgba(0, 0, 0, 0.3));\n",
              "      fill: #FFFFFF;\n",
              "    }\n",
              "  </style>\n",
              "\n",
              "    <script>\n",
              "      const buttonEl =\n",
              "        document.querySelector('#df-7c996314-2435-40d9-8ada-1eec18b80c27 button.colab-df-convert');\n",
              "      buttonEl.style.display =\n",
              "        google.colab.kernel.accessAllowed ? 'block' : 'none';\n",
              "\n",
              "      async function convertToInteractive(key) {\n",
              "        const element = document.querySelector('#df-7c996314-2435-40d9-8ada-1eec18b80c27');\n",
              "        const dataTable =\n",
              "          await google.colab.kernel.invokeFunction('convertToInteractive',\n",
              "                                                    [key], {});\n",
              "        if (!dataTable) return;\n",
              "\n",
              "        const docLinkHtml = 'Like what you see? Visit the ' +\n",
              "          '<a target=\"_blank\" href=https://colab.research.google.com/notebooks/data_table.ipynb>data table notebook</a>'\n",
              "          + ' to learn more about interactive tables.';\n",
              "        element.innerHTML = '';\n",
              "        dataTable['output_type'] = 'display_data';\n",
              "        await google.colab.output.renderOutput(dataTable, element);\n",
              "        const docLink = document.createElement('div');\n",
              "        docLink.innerHTML = docLinkHtml;\n",
              "        element.appendChild(docLink);\n",
              "      }\n",
              "    </script>\n",
              "  </div>\n",
              "\n",
              "\n",
              "<div id=\"df-42fe3d19-59b9-4526-a15a-9a1cfa9a31f6\">\n",
              "  <button class=\"colab-df-quickchart\" onclick=\"quickchart('df-42fe3d19-59b9-4526-a15a-9a1cfa9a31f6')\"\n",
              "            title=\"Suggest charts\"\n",
              "            style=\"display:none;\">\n",
              "\n",
              "<svg xmlns=\"http://www.w3.org/2000/svg\" height=\"24px\"viewBox=\"0 0 24 24\"\n",
              "     width=\"24px\">\n",
              "    <g>\n",
              "        <path d=\"M19 3H5c-1.1 0-2 .9-2 2v14c0 1.1.9 2 2 2h14c1.1 0 2-.9 2-2V5c0-1.1-.9-2-2-2zM9 17H7v-7h2v7zm4 0h-2V7h2v10zm4 0h-2v-4h2v4z\"/>\n",
              "    </g>\n",
              "</svg>\n",
              "  </button>\n",
              "\n",
              "<style>\n",
              "  .colab-df-quickchart {\n",
              "      --bg-color: #E8F0FE;\n",
              "      --fill-color: #1967D2;\n",
              "      --hover-bg-color: #E2EBFA;\n",
              "      --hover-fill-color: #174EA6;\n",
              "      --disabled-fill-color: #AAA;\n",
              "      --disabled-bg-color: #DDD;\n",
              "  }\n",
              "\n",
              "  [theme=dark] .colab-df-quickchart {\n",
              "      --bg-color: #3B4455;\n",
              "      --fill-color: #D2E3FC;\n",
              "      --hover-bg-color: #434B5C;\n",
              "      --hover-fill-color: #FFFFFF;\n",
              "      --disabled-bg-color: #3B4455;\n",
              "      --disabled-fill-color: #666;\n",
              "  }\n",
              "\n",
              "  .colab-df-quickchart {\n",
              "    background-color: var(--bg-color);\n",
              "    border: none;\n",
              "    border-radius: 50%;\n",
              "    cursor: pointer;\n",
              "    display: none;\n",
              "    fill: var(--fill-color);\n",
              "    height: 32px;\n",
              "    padding: 0;\n",
              "    width: 32px;\n",
              "  }\n",
              "\n",
              "  .colab-df-quickchart:hover {\n",
              "    background-color: var(--hover-bg-color);\n",
              "    box-shadow: 0 1px 2px rgba(60, 64, 67, 0.3), 0 1px 3px 1px rgba(60, 64, 67, 0.15);\n",
              "    fill: var(--button-hover-fill-color);\n",
              "  }\n",
              "\n",
              "  .colab-df-quickchart-complete:disabled,\n",
              "  .colab-df-quickchart-complete:disabled:hover {\n",
              "    background-color: var(--disabled-bg-color);\n",
              "    fill: var(--disabled-fill-color);\n",
              "    box-shadow: none;\n",
              "  }\n",
              "\n",
              "  .colab-df-spinner {\n",
              "    border: 2px solid var(--fill-color);\n",
              "    border-color: transparent;\n",
              "    border-bottom-color: var(--fill-color);\n",
              "    animation:\n",
              "      spin 1s steps(1) infinite;\n",
              "  }\n",
              "\n",
              "  @keyframes spin {\n",
              "    0% {\n",
              "      border-color: transparent;\n",
              "      border-bottom-color: var(--fill-color);\n",
              "      border-left-color: var(--fill-color);\n",
              "    }\n",
              "    20% {\n",
              "      border-color: transparent;\n",
              "      border-left-color: var(--fill-color);\n",
              "      border-top-color: var(--fill-color);\n",
              "    }\n",
              "    30% {\n",
              "      border-color: transparent;\n",
              "      border-left-color: var(--fill-color);\n",
              "      border-top-color: var(--fill-color);\n",
              "      border-right-color: var(--fill-color);\n",
              "    }\n",
              "    40% {\n",
              "      border-color: transparent;\n",
              "      border-right-color: var(--fill-color);\n",
              "      border-top-color: var(--fill-color);\n",
              "    }\n",
              "    60% {\n",
              "      border-color: transparent;\n",
              "      border-right-color: var(--fill-color);\n",
              "    }\n",
              "    80% {\n",
              "      border-color: transparent;\n",
              "      border-right-color: var(--fill-color);\n",
              "      border-bottom-color: var(--fill-color);\n",
              "    }\n",
              "    90% {\n",
              "      border-color: transparent;\n",
              "      border-bottom-color: var(--fill-color);\n",
              "    }\n",
              "  }\n",
              "</style>\n",
              "\n",
              "  <script>\n",
              "    async function quickchart(key) {\n",
              "      const quickchartButtonEl =\n",
              "        document.querySelector('#' + key + ' button');\n",
              "      quickchartButtonEl.disabled = true;  // To prevent multiple clicks.\n",
              "      quickchartButtonEl.classList.add('colab-df-spinner');\n",
              "      try {\n",
              "        const charts = await google.colab.kernel.invokeFunction(\n",
              "            'suggestCharts', [key], {});\n",
              "      } catch (error) {\n",
              "        console.error('Error during call to suggestCharts:', error);\n",
              "      }\n",
              "      quickchartButtonEl.classList.remove('colab-df-spinner');\n",
              "      quickchartButtonEl.classList.add('colab-df-quickchart-complete');\n",
              "    }\n",
              "    (() => {\n",
              "      let quickchartButtonEl =\n",
              "        document.querySelector('#df-42fe3d19-59b9-4526-a15a-9a1cfa9a31f6 button');\n",
              "      quickchartButtonEl.style.display =\n",
              "        google.colab.kernel.accessAllowed ? 'block' : 'none';\n",
              "    })();\n",
              "  </script>\n",
              "</div>\n",
              "\n",
              "    </div>\n",
              "  </div>\n"
            ],
            "application/vnd.google.colaboratory.intrinsic+json": {
              "type": "dataframe",
              "variable_name": "Dataset"
            }
          },
          "metadata": {},
          "execution_count": 3
        }
      ]
    },
    {
      "cell_type": "markdown",
      "source": [
        "**Displaying the Bottom 5 Rows of the Dataset**"
      ],
      "metadata": {
        "id": "csnMYliEpEIz"
      }
    },
    {
      "cell_type": "code",
      "source": [
        "Dataset.tail(5)"
      ],
      "metadata": {
        "colab": {
          "base_uri": "https://localhost:8080/",
          "height": 359
        },
        "id": "xlVlpVveo3pW",
        "outputId": "f3064230-3245-4ff9-f05b-0959ede48e38"
      },
      "execution_count": 4,
      "outputs": [
        {
          "output_type": "execute_result",
          "data": {
            "text/plain": [
              "     Country Name Country Code     Indicator Name Indicator Code        1960  \\\n",
              "261        Kosovo          XKX  Population, total    SP.POP.TOTL    990150.0   \n",
              "262   Yemen, Rep.          YEM  Population, total    SP.POP.TOTL   5542459.0   \n",
              "263  South Africa          ZAF  Population, total    SP.POP.TOTL  16520441.0   \n",
              "264        Zambia          ZMB  Population, total    SP.POP.TOTL   3119430.0   \n",
              "265      Zimbabwe          ZWE  Population, total    SP.POP.TOTL   3806310.0   \n",
              "\n",
              "           1961        1962        1963        1964        1965  ...  \\\n",
              "261   1014211.0   1038618.0   1063175.0   1087700.0   1111812.0  ...   \n",
              "262   5646668.0   5753386.0   5860197.0   5973803.0   6097298.0  ...   \n",
              "263  16989464.0  17503133.0  18042215.0  18603097.0  19187194.0  ...   \n",
              "264   3219451.0   3323427.0   3431381.0   3542764.0   3658024.0  ...   \n",
              "265   3925952.0   4049778.0   4177931.0   4310332.0   4447149.0  ...   \n",
              "\n",
              "           2014        2015        2016        2017        2018        2019  \\\n",
              "261   1812771.0   1788196.0   1777557.0   1791003.0   1797085.0   1788878.0   \n",
              "262  27753304.0  28516545.0  29274002.0  30034389.0  30790513.0  31546691.0   \n",
              "263  54729551.0  55876504.0  56422274.0  56641209.0  57339635.0  58087055.0   \n",
              "264  15737793.0  16248230.0  16767761.0  17298054.0  17835893.0  18380477.0   \n",
              "265  13855753.0  14154937.0  14452704.0  14751101.0  15052184.0  15354608.0   \n",
              "\n",
              "           2020        2021        2022        2023  \n",
              "261   1790133.0   1786038.0   1768086.0   1756374.0  \n",
              "262  32284046.0  32981641.0  33696614.0  34449825.0  \n",
              "263  58801927.0  59392255.0  59893885.0  60414495.0  \n",
              "264  18927715.0  19473125.0  20017675.0  20569737.0  \n",
              "265  15669666.0  15993524.0  16320537.0  16665409.0  \n",
              "\n",
              "[5 rows x 68 columns]"
            ],
            "text/html": [
              "\n",
              "  <div id=\"df-cb0b7fa8-30c1-42a7-85f1-550375e5668d\" class=\"colab-df-container\">\n",
              "    <div>\n",
              "<style scoped>\n",
              "    .dataframe tbody tr th:only-of-type {\n",
              "        vertical-align: middle;\n",
              "    }\n",
              "\n",
              "    .dataframe tbody tr th {\n",
              "        vertical-align: top;\n",
              "    }\n",
              "\n",
              "    .dataframe thead th {\n",
              "        text-align: right;\n",
              "    }\n",
              "</style>\n",
              "<table border=\"1\" class=\"dataframe\">\n",
              "  <thead>\n",
              "    <tr style=\"text-align: right;\">\n",
              "      <th></th>\n",
              "      <th>Country Name</th>\n",
              "      <th>Country Code</th>\n",
              "      <th>Indicator Name</th>\n",
              "      <th>Indicator Code</th>\n",
              "      <th>1960</th>\n",
              "      <th>1961</th>\n",
              "      <th>1962</th>\n",
              "      <th>1963</th>\n",
              "      <th>1964</th>\n",
              "      <th>1965</th>\n",
              "      <th>...</th>\n",
              "      <th>2014</th>\n",
              "      <th>2015</th>\n",
              "      <th>2016</th>\n",
              "      <th>2017</th>\n",
              "      <th>2018</th>\n",
              "      <th>2019</th>\n",
              "      <th>2020</th>\n",
              "      <th>2021</th>\n",
              "      <th>2022</th>\n",
              "      <th>2023</th>\n",
              "    </tr>\n",
              "  </thead>\n",
              "  <tbody>\n",
              "    <tr>\n",
              "      <th>261</th>\n",
              "      <td>Kosovo</td>\n",
              "      <td>XKX</td>\n",
              "      <td>Population, total</td>\n",
              "      <td>SP.POP.TOTL</td>\n",
              "      <td>990150.0</td>\n",
              "      <td>1014211.0</td>\n",
              "      <td>1038618.0</td>\n",
              "      <td>1063175.0</td>\n",
              "      <td>1087700.0</td>\n",
              "      <td>1111812.0</td>\n",
              "      <td>...</td>\n",
              "      <td>1812771.0</td>\n",
              "      <td>1788196.0</td>\n",
              "      <td>1777557.0</td>\n",
              "      <td>1791003.0</td>\n",
              "      <td>1797085.0</td>\n",
              "      <td>1788878.0</td>\n",
              "      <td>1790133.0</td>\n",
              "      <td>1786038.0</td>\n",
              "      <td>1768086.0</td>\n",
              "      <td>1756374.0</td>\n",
              "    </tr>\n",
              "    <tr>\n",
              "      <th>262</th>\n",
              "      <td>Yemen, Rep.</td>\n",
              "      <td>YEM</td>\n",
              "      <td>Population, total</td>\n",
              "      <td>SP.POP.TOTL</td>\n",
              "      <td>5542459.0</td>\n",
              "      <td>5646668.0</td>\n",
              "      <td>5753386.0</td>\n",
              "      <td>5860197.0</td>\n",
              "      <td>5973803.0</td>\n",
              "      <td>6097298.0</td>\n",
              "      <td>...</td>\n",
              "      <td>27753304.0</td>\n",
              "      <td>28516545.0</td>\n",
              "      <td>29274002.0</td>\n",
              "      <td>30034389.0</td>\n",
              "      <td>30790513.0</td>\n",
              "      <td>31546691.0</td>\n",
              "      <td>32284046.0</td>\n",
              "      <td>32981641.0</td>\n",
              "      <td>33696614.0</td>\n",
              "      <td>34449825.0</td>\n",
              "    </tr>\n",
              "    <tr>\n",
              "      <th>263</th>\n",
              "      <td>South Africa</td>\n",
              "      <td>ZAF</td>\n",
              "      <td>Population, total</td>\n",
              "      <td>SP.POP.TOTL</td>\n",
              "      <td>16520441.0</td>\n",
              "      <td>16989464.0</td>\n",
              "      <td>17503133.0</td>\n",
              "      <td>18042215.0</td>\n",
              "      <td>18603097.0</td>\n",
              "      <td>19187194.0</td>\n",
              "      <td>...</td>\n",
              "      <td>54729551.0</td>\n",
              "      <td>55876504.0</td>\n",
              "      <td>56422274.0</td>\n",
              "      <td>56641209.0</td>\n",
              "      <td>57339635.0</td>\n",
              "      <td>58087055.0</td>\n",
              "      <td>58801927.0</td>\n",
              "      <td>59392255.0</td>\n",
              "      <td>59893885.0</td>\n",
              "      <td>60414495.0</td>\n",
              "    </tr>\n",
              "    <tr>\n",
              "      <th>264</th>\n",
              "      <td>Zambia</td>\n",
              "      <td>ZMB</td>\n",
              "      <td>Population, total</td>\n",
              "      <td>SP.POP.TOTL</td>\n",
              "      <td>3119430.0</td>\n",
              "      <td>3219451.0</td>\n",
              "      <td>3323427.0</td>\n",
              "      <td>3431381.0</td>\n",
              "      <td>3542764.0</td>\n",
              "      <td>3658024.0</td>\n",
              "      <td>...</td>\n",
              "      <td>15737793.0</td>\n",
              "      <td>16248230.0</td>\n",
              "      <td>16767761.0</td>\n",
              "      <td>17298054.0</td>\n",
              "      <td>17835893.0</td>\n",
              "      <td>18380477.0</td>\n",
              "      <td>18927715.0</td>\n",
              "      <td>19473125.0</td>\n",
              "      <td>20017675.0</td>\n",
              "      <td>20569737.0</td>\n",
              "    </tr>\n",
              "    <tr>\n",
              "      <th>265</th>\n",
              "      <td>Zimbabwe</td>\n",
              "      <td>ZWE</td>\n",
              "      <td>Population, total</td>\n",
              "      <td>SP.POP.TOTL</td>\n",
              "      <td>3806310.0</td>\n",
              "      <td>3925952.0</td>\n",
              "      <td>4049778.0</td>\n",
              "      <td>4177931.0</td>\n",
              "      <td>4310332.0</td>\n",
              "      <td>4447149.0</td>\n",
              "      <td>...</td>\n",
              "      <td>13855753.0</td>\n",
              "      <td>14154937.0</td>\n",
              "      <td>14452704.0</td>\n",
              "      <td>14751101.0</td>\n",
              "      <td>15052184.0</td>\n",
              "      <td>15354608.0</td>\n",
              "      <td>15669666.0</td>\n",
              "      <td>15993524.0</td>\n",
              "      <td>16320537.0</td>\n",
              "      <td>16665409.0</td>\n",
              "    </tr>\n",
              "  </tbody>\n",
              "</table>\n",
              "<p>5 rows × 68 columns</p>\n",
              "</div>\n",
              "    <div class=\"colab-df-buttons\">\n",
              "\n",
              "  <div class=\"colab-df-container\">\n",
              "    <button class=\"colab-df-convert\" onclick=\"convertToInteractive('df-cb0b7fa8-30c1-42a7-85f1-550375e5668d')\"\n",
              "            title=\"Convert this dataframe to an interactive table.\"\n",
              "            style=\"display:none;\">\n",
              "\n",
              "  <svg xmlns=\"http://www.w3.org/2000/svg\" height=\"24px\" viewBox=\"0 -960 960 960\">\n",
              "    <path d=\"M120-120v-720h720v720H120Zm60-500h600v-160H180v160Zm220 220h160v-160H400v160Zm0 220h160v-160H400v160ZM180-400h160v-160H180v160Zm440 0h160v-160H620v160ZM180-180h160v-160H180v160Zm440 0h160v-160H620v160Z\"/>\n",
              "  </svg>\n",
              "    </button>\n",
              "\n",
              "  <style>\n",
              "    .colab-df-container {\n",
              "      display:flex;\n",
              "      gap: 12px;\n",
              "    }\n",
              "\n",
              "    .colab-df-convert {\n",
              "      background-color: #E8F0FE;\n",
              "      border: none;\n",
              "      border-radius: 50%;\n",
              "      cursor: pointer;\n",
              "      display: none;\n",
              "      fill: #1967D2;\n",
              "      height: 32px;\n",
              "      padding: 0 0 0 0;\n",
              "      width: 32px;\n",
              "    }\n",
              "\n",
              "    .colab-df-convert:hover {\n",
              "      background-color: #E2EBFA;\n",
              "      box-shadow: 0px 1px 2px rgba(60, 64, 67, 0.3), 0px 1px 3px 1px rgba(60, 64, 67, 0.15);\n",
              "      fill: #174EA6;\n",
              "    }\n",
              "\n",
              "    .colab-df-buttons div {\n",
              "      margin-bottom: 4px;\n",
              "    }\n",
              "\n",
              "    [theme=dark] .colab-df-convert {\n",
              "      background-color: #3B4455;\n",
              "      fill: #D2E3FC;\n",
              "    }\n",
              "\n",
              "    [theme=dark] .colab-df-convert:hover {\n",
              "      background-color: #434B5C;\n",
              "      box-shadow: 0px 1px 3px 1px rgba(0, 0, 0, 0.15);\n",
              "      filter: drop-shadow(0px 1px 2px rgba(0, 0, 0, 0.3));\n",
              "      fill: #FFFFFF;\n",
              "    }\n",
              "  </style>\n",
              "\n",
              "    <script>\n",
              "      const buttonEl =\n",
              "        document.querySelector('#df-cb0b7fa8-30c1-42a7-85f1-550375e5668d button.colab-df-convert');\n",
              "      buttonEl.style.display =\n",
              "        google.colab.kernel.accessAllowed ? 'block' : 'none';\n",
              "\n",
              "      async function convertToInteractive(key) {\n",
              "        const element = document.querySelector('#df-cb0b7fa8-30c1-42a7-85f1-550375e5668d');\n",
              "        const dataTable =\n",
              "          await google.colab.kernel.invokeFunction('convertToInteractive',\n",
              "                                                    [key], {});\n",
              "        if (!dataTable) return;\n",
              "\n",
              "        const docLinkHtml = 'Like what you see? Visit the ' +\n",
              "          '<a target=\"_blank\" href=https://colab.research.google.com/notebooks/data_table.ipynb>data table notebook</a>'\n",
              "          + ' to learn more about interactive tables.';\n",
              "        element.innerHTML = '';\n",
              "        dataTable['output_type'] = 'display_data';\n",
              "        await google.colab.output.renderOutput(dataTable, element);\n",
              "        const docLink = document.createElement('div');\n",
              "        docLink.innerHTML = docLinkHtml;\n",
              "        element.appendChild(docLink);\n",
              "      }\n",
              "    </script>\n",
              "  </div>\n",
              "\n",
              "\n",
              "<div id=\"df-928df260-2916-433b-b562-b9b849d50b97\">\n",
              "  <button class=\"colab-df-quickchart\" onclick=\"quickchart('df-928df260-2916-433b-b562-b9b849d50b97')\"\n",
              "            title=\"Suggest charts\"\n",
              "            style=\"display:none;\">\n",
              "\n",
              "<svg xmlns=\"http://www.w3.org/2000/svg\" height=\"24px\"viewBox=\"0 0 24 24\"\n",
              "     width=\"24px\">\n",
              "    <g>\n",
              "        <path d=\"M19 3H5c-1.1 0-2 .9-2 2v14c0 1.1.9 2 2 2h14c1.1 0 2-.9 2-2V5c0-1.1-.9-2-2-2zM9 17H7v-7h2v7zm4 0h-2V7h2v10zm4 0h-2v-4h2v4z\"/>\n",
              "    </g>\n",
              "</svg>\n",
              "  </button>\n",
              "\n",
              "<style>\n",
              "  .colab-df-quickchart {\n",
              "      --bg-color: #E8F0FE;\n",
              "      --fill-color: #1967D2;\n",
              "      --hover-bg-color: #E2EBFA;\n",
              "      --hover-fill-color: #174EA6;\n",
              "      --disabled-fill-color: #AAA;\n",
              "      --disabled-bg-color: #DDD;\n",
              "  }\n",
              "\n",
              "  [theme=dark] .colab-df-quickchart {\n",
              "      --bg-color: #3B4455;\n",
              "      --fill-color: #D2E3FC;\n",
              "      --hover-bg-color: #434B5C;\n",
              "      --hover-fill-color: #FFFFFF;\n",
              "      --disabled-bg-color: #3B4455;\n",
              "      --disabled-fill-color: #666;\n",
              "  }\n",
              "\n",
              "  .colab-df-quickchart {\n",
              "    background-color: var(--bg-color);\n",
              "    border: none;\n",
              "    border-radius: 50%;\n",
              "    cursor: pointer;\n",
              "    display: none;\n",
              "    fill: var(--fill-color);\n",
              "    height: 32px;\n",
              "    padding: 0;\n",
              "    width: 32px;\n",
              "  }\n",
              "\n",
              "  .colab-df-quickchart:hover {\n",
              "    background-color: var(--hover-bg-color);\n",
              "    box-shadow: 0 1px 2px rgba(60, 64, 67, 0.3), 0 1px 3px 1px rgba(60, 64, 67, 0.15);\n",
              "    fill: var(--button-hover-fill-color);\n",
              "  }\n",
              "\n",
              "  .colab-df-quickchart-complete:disabled,\n",
              "  .colab-df-quickchart-complete:disabled:hover {\n",
              "    background-color: var(--disabled-bg-color);\n",
              "    fill: var(--disabled-fill-color);\n",
              "    box-shadow: none;\n",
              "  }\n",
              "\n",
              "  .colab-df-spinner {\n",
              "    border: 2px solid var(--fill-color);\n",
              "    border-color: transparent;\n",
              "    border-bottom-color: var(--fill-color);\n",
              "    animation:\n",
              "      spin 1s steps(1) infinite;\n",
              "  }\n",
              "\n",
              "  @keyframes spin {\n",
              "    0% {\n",
              "      border-color: transparent;\n",
              "      border-bottom-color: var(--fill-color);\n",
              "      border-left-color: var(--fill-color);\n",
              "    }\n",
              "    20% {\n",
              "      border-color: transparent;\n",
              "      border-left-color: var(--fill-color);\n",
              "      border-top-color: var(--fill-color);\n",
              "    }\n",
              "    30% {\n",
              "      border-color: transparent;\n",
              "      border-left-color: var(--fill-color);\n",
              "      border-top-color: var(--fill-color);\n",
              "      border-right-color: var(--fill-color);\n",
              "    }\n",
              "    40% {\n",
              "      border-color: transparent;\n",
              "      border-right-color: var(--fill-color);\n",
              "      border-top-color: var(--fill-color);\n",
              "    }\n",
              "    60% {\n",
              "      border-color: transparent;\n",
              "      border-right-color: var(--fill-color);\n",
              "    }\n",
              "    80% {\n",
              "      border-color: transparent;\n",
              "      border-right-color: var(--fill-color);\n",
              "      border-bottom-color: var(--fill-color);\n",
              "    }\n",
              "    90% {\n",
              "      border-color: transparent;\n",
              "      border-bottom-color: var(--fill-color);\n",
              "    }\n",
              "  }\n",
              "</style>\n",
              "\n",
              "  <script>\n",
              "    async function quickchart(key) {\n",
              "      const quickchartButtonEl =\n",
              "        document.querySelector('#' + key + ' button');\n",
              "      quickchartButtonEl.disabled = true;  // To prevent multiple clicks.\n",
              "      quickchartButtonEl.classList.add('colab-df-spinner');\n",
              "      try {\n",
              "        const charts = await google.colab.kernel.invokeFunction(\n",
              "            'suggestCharts', [key], {});\n",
              "      } catch (error) {\n",
              "        console.error('Error during call to suggestCharts:', error);\n",
              "      }\n",
              "      quickchartButtonEl.classList.remove('colab-df-spinner');\n",
              "      quickchartButtonEl.classList.add('colab-df-quickchart-complete');\n",
              "    }\n",
              "    (() => {\n",
              "      let quickchartButtonEl =\n",
              "        document.querySelector('#df-928df260-2916-433b-b562-b9b849d50b97 button');\n",
              "      quickchartButtonEl.style.display =\n",
              "        google.colab.kernel.accessAllowed ? 'block' : 'none';\n",
              "    })();\n",
              "  </script>\n",
              "</div>\n",
              "\n",
              "    </div>\n",
              "  </div>\n"
            ],
            "application/vnd.google.colaboratory.intrinsic+json": {
              "type": "dataframe"
            }
          },
          "metadata": {},
          "execution_count": 4
        }
      ]
    },
    {
      "cell_type": "markdown",
      "source": [
        "**Retreiving Details of India Population**"
      ],
      "metadata": {
        "id": "vKCzJtpnqUek"
      }
    },
    {
      "cell_type": "code",
      "source": [
        "Dataset[Dataset['Country Name']=='India']"
      ],
      "metadata": {
        "colab": {
          "base_uri": "https://localhost:8080/",
          "height": 165
        },
        "id": "WWpK1JzTpOGc",
        "outputId": "659de691-1120-44fa-ac6a-63aeaeede43e"
      },
      "execution_count": 46,
      "outputs": [
        {
          "output_type": "execute_result",
          "data": {
            "text/plain": [
              "    Country Name Country Code     Indicator Name Indicator Code         1960  \\\n",
              "109        India          IND  Population, total    SP.POP.TOTL  445954579.0   \n",
              "\n",
              "            1961         1962         1963         1964         1965  ...  \\\n",
              "109  456351876.0  467024193.0  477933619.0  489059309.0  500114346.0  ...   \n",
              "\n",
              "             2014          2015          2016          2017          2018  \\\n",
              "109  1.307247e+09  1.322867e+09  1.338636e+09  1.354196e+09  1.369003e+09   \n",
              "\n",
              "             2019          2020          2021          2022          2023  \n",
              "109  1.383112e+09  1.396387e+09  1.407564e+09  1.417173e+09  1.428628e+09  \n",
              "\n",
              "[1 rows x 68 columns]"
            ],
            "text/html": [
              "\n",
              "  <div id=\"df-afaa9037-e355-4b57-9473-7f8d130f3505\" class=\"colab-df-container\">\n",
              "    <div>\n",
              "<style scoped>\n",
              "    .dataframe tbody tr th:only-of-type {\n",
              "        vertical-align: middle;\n",
              "    }\n",
              "\n",
              "    .dataframe tbody tr th {\n",
              "        vertical-align: top;\n",
              "    }\n",
              "\n",
              "    .dataframe thead th {\n",
              "        text-align: right;\n",
              "    }\n",
              "</style>\n",
              "<table border=\"1\" class=\"dataframe\">\n",
              "  <thead>\n",
              "    <tr style=\"text-align: right;\">\n",
              "      <th></th>\n",
              "      <th>Country Name</th>\n",
              "      <th>Country Code</th>\n",
              "      <th>Indicator Name</th>\n",
              "      <th>Indicator Code</th>\n",
              "      <th>1960</th>\n",
              "      <th>1961</th>\n",
              "      <th>1962</th>\n",
              "      <th>1963</th>\n",
              "      <th>1964</th>\n",
              "      <th>1965</th>\n",
              "      <th>...</th>\n",
              "      <th>2014</th>\n",
              "      <th>2015</th>\n",
              "      <th>2016</th>\n",
              "      <th>2017</th>\n",
              "      <th>2018</th>\n",
              "      <th>2019</th>\n",
              "      <th>2020</th>\n",
              "      <th>2021</th>\n",
              "      <th>2022</th>\n",
              "      <th>2023</th>\n",
              "    </tr>\n",
              "  </thead>\n",
              "  <tbody>\n",
              "    <tr>\n",
              "      <th>109</th>\n",
              "      <td>India</td>\n",
              "      <td>IND</td>\n",
              "      <td>Population, total</td>\n",
              "      <td>SP.POP.TOTL</td>\n",
              "      <td>445954579.0</td>\n",
              "      <td>456351876.0</td>\n",
              "      <td>467024193.0</td>\n",
              "      <td>477933619.0</td>\n",
              "      <td>489059309.0</td>\n",
              "      <td>500114346.0</td>\n",
              "      <td>...</td>\n",
              "      <td>1.307247e+09</td>\n",
              "      <td>1.322867e+09</td>\n",
              "      <td>1.338636e+09</td>\n",
              "      <td>1.354196e+09</td>\n",
              "      <td>1.369003e+09</td>\n",
              "      <td>1.383112e+09</td>\n",
              "      <td>1.396387e+09</td>\n",
              "      <td>1.407564e+09</td>\n",
              "      <td>1.417173e+09</td>\n",
              "      <td>1.428628e+09</td>\n",
              "    </tr>\n",
              "  </tbody>\n",
              "</table>\n",
              "<p>1 rows × 68 columns</p>\n",
              "</div>\n",
              "    <div class=\"colab-df-buttons\">\n",
              "\n",
              "  <div class=\"colab-df-container\">\n",
              "    <button class=\"colab-df-convert\" onclick=\"convertToInteractive('df-afaa9037-e355-4b57-9473-7f8d130f3505')\"\n",
              "            title=\"Convert this dataframe to an interactive table.\"\n",
              "            style=\"display:none;\">\n",
              "\n",
              "  <svg xmlns=\"http://www.w3.org/2000/svg\" height=\"24px\" viewBox=\"0 -960 960 960\">\n",
              "    <path d=\"M120-120v-720h720v720H120Zm60-500h600v-160H180v160Zm220 220h160v-160H400v160Zm0 220h160v-160H400v160ZM180-400h160v-160H180v160Zm440 0h160v-160H620v160ZM180-180h160v-160H180v160Zm440 0h160v-160H620v160Z\"/>\n",
              "  </svg>\n",
              "    </button>\n",
              "\n",
              "  <style>\n",
              "    .colab-df-container {\n",
              "      display:flex;\n",
              "      gap: 12px;\n",
              "    }\n",
              "\n",
              "    .colab-df-convert {\n",
              "      background-color: #E8F0FE;\n",
              "      border: none;\n",
              "      border-radius: 50%;\n",
              "      cursor: pointer;\n",
              "      display: none;\n",
              "      fill: #1967D2;\n",
              "      height: 32px;\n",
              "      padding: 0 0 0 0;\n",
              "      width: 32px;\n",
              "    }\n",
              "\n",
              "    .colab-df-convert:hover {\n",
              "      background-color: #E2EBFA;\n",
              "      box-shadow: 0px 1px 2px rgba(60, 64, 67, 0.3), 0px 1px 3px 1px rgba(60, 64, 67, 0.15);\n",
              "      fill: #174EA6;\n",
              "    }\n",
              "\n",
              "    .colab-df-buttons div {\n",
              "      margin-bottom: 4px;\n",
              "    }\n",
              "\n",
              "    [theme=dark] .colab-df-convert {\n",
              "      background-color: #3B4455;\n",
              "      fill: #D2E3FC;\n",
              "    }\n",
              "\n",
              "    [theme=dark] .colab-df-convert:hover {\n",
              "      background-color: #434B5C;\n",
              "      box-shadow: 0px 1px 3px 1px rgba(0, 0, 0, 0.15);\n",
              "      filter: drop-shadow(0px 1px 2px rgba(0, 0, 0, 0.3));\n",
              "      fill: #FFFFFF;\n",
              "    }\n",
              "  </style>\n",
              "\n",
              "    <script>\n",
              "      const buttonEl =\n",
              "        document.querySelector('#df-afaa9037-e355-4b57-9473-7f8d130f3505 button.colab-df-convert');\n",
              "      buttonEl.style.display =\n",
              "        google.colab.kernel.accessAllowed ? 'block' : 'none';\n",
              "\n",
              "      async function convertToInteractive(key) {\n",
              "        const element = document.querySelector('#df-afaa9037-e355-4b57-9473-7f8d130f3505');\n",
              "        const dataTable =\n",
              "          await google.colab.kernel.invokeFunction('convertToInteractive',\n",
              "                                                    [key], {});\n",
              "        if (!dataTable) return;\n",
              "\n",
              "        const docLinkHtml = 'Like what you see? Visit the ' +\n",
              "          '<a target=\"_blank\" href=https://colab.research.google.com/notebooks/data_table.ipynb>data table notebook</a>'\n",
              "          + ' to learn more about interactive tables.';\n",
              "        element.innerHTML = '';\n",
              "        dataTable['output_type'] = 'display_data';\n",
              "        await google.colab.output.renderOutput(dataTable, element);\n",
              "        const docLink = document.createElement('div');\n",
              "        docLink.innerHTML = docLinkHtml;\n",
              "        element.appendChild(docLink);\n",
              "      }\n",
              "    </script>\n",
              "  </div>\n",
              "\n",
              "\n",
              "    </div>\n",
              "  </div>\n"
            ],
            "application/vnd.google.colaboratory.intrinsic+json": {
              "type": "dataframe"
            }
          },
          "metadata": {},
          "execution_count": 46
        }
      ]
    },
    {
      "cell_type": "markdown",
      "source": [
        "**Visualization of India Population over the Last 10 Years**"
      ],
      "metadata": {
        "id": "xx1RK2OqwhY4"
      }
    },
    {
      "cell_type": "code",
      "source": [
        "pop_growth=Dataset[Dataset['Country Name']=='India'].iloc[:,-11:-1]\n",
        "plt.figure(figsize=(10,6))\n",
        "plt.title(\"Population Growth of India in the last 10 years\")\n",
        "plt.xlabel(\"Years\")\n",
        "plt.ylabel(\"Population in Billions\")\n",
        "plt.bar(pop_growth.columns,pop_growth.values.flatten())"
      ],
      "metadata": {
        "colab": {
          "base_uri": "https://localhost:8080/",
          "height": 582
        },
        "id": "chazmT2MqfE0",
        "outputId": "cc059ca1-dc68-43d0-f030-a148289fca27"
      },
      "execution_count": 44,
      "outputs": [
        {
          "output_type": "execute_result",
          "data": {
            "text/plain": [
              "<BarContainer object of 10 artists>"
            ]
          },
          "metadata": {},
          "execution_count": 44
        },
        {
          "output_type": "display_data",
          "data": {
            "text/plain": [
              "<Figure size 1000x600 with 1 Axes>"
            ],
            "image/png": "[encoded data removed]"
          },
          "metadata": {}
        }
      ]
    },
    {
      "cell_type": "markdown",
      "source": [
        "**Importing Another Dataset from Kaggle for further analysis**"
      ],
      "metadata": {
        "id": "A6mEAQd65sS8"
      }
    },
    {
      "cell_type": "code",
      "source": [
        "df=pd.read_csv(\"/content/world_population.csv\")"
      ],
      "metadata": {
        "id": "dw02o003zaCB"
      },
      "execution_count": 55,
      "outputs": []
    },
    {
      "cell_type": "code",
      "source": [
        "df.head(5)"
      ],
      "metadata": {
        "colab": {
          "base_uri": "https://localhost:8080/",
          "height": 295
        },
        "id": "IvfBC7vlzwS8",
        "outputId": "0fa795d1-574c-488b-d735-1c584e086599"
      },
      "execution_count": 56,
      "outputs": [
        {
          "output_type": "execute_result",
          "data": {
            "text/plain": [
              "   Rank CCA3 Country/Territory           Capital Continent  2022 Population  \\\n",
              "0    36  AFG       Afghanistan             Kabul      Asia         41128771   \n",
              "1   138  ALB           Albania            Tirana    Europe          2842321   \n",
              "2    34  DZA           Algeria           Algiers    Africa         44903225   \n",
              "3   213  ASM    American Samoa         Pago Pago   Oceania            44273   \n",
              "4   203  AND           Andorra  Andorra la Vella    Europe            79824   \n",
              "\n",
              "   2020 Population  2015 Population  2010 Population  2000 Population  \\\n",
              "0         38972230         33753499         28189672         19542982   \n",
              "1          2866849          2882481          2913399          3182021   \n",
              "2         43451666         39543154         35856344         30774621   \n",
              "3            46189            51368            54849            58230   \n",
              "4            77700            71746            71519            66097   \n",
              "\n",
              "   1990 Population  1980 Population  1970 Population  Area (km²)  \\\n",
              "0         10694796         12486631         10752971      652230   \n",
              "1          3295066          2941651          2324731       28748   \n",
              "2         25518074         18739378         13795915     2381741   \n",
              "3            47818            32886            27075         199   \n",
              "4            53569            35611            19860         468   \n",
              "\n",
              "   Density (per km²)  Growth Rate  World Population Percentage  \n",
              "0            63.0587       1.0257                         0.52  \n",
              "1            98.8702       0.9957                         0.04  \n",
              "2            18.8531       1.0164                         0.56  \n",
              "3           222.4774       0.9831                         0.00  \n",
              "4           170.5641       1.0100                         0.00  "
            ],
            "text/html": [
              "\n",
              "  <div id=\"df-7cf86218-8288-4be0-b3e3-d3cc61fdf2b9\" class=\"colab-df-container\">\n",
              "    <div>\n",
              "<style scoped>\n",
              "    .dataframe tbody tr th:only-of-type {\n",
              "        vertical-align: middle;\n",
              "    }\n",
              "\n",
              "    .dataframe tbody tr th {\n",
              "        vertical-align: top;\n",
              "    }\n",
              "\n",
              "    .dataframe thead th {\n",
              "        text-align: right;\n",
              "    }\n",
              "</style>\n",
              "<table border=\"1\" class=\"dataframe\">\n",
              "  <thead>\n",
              "    <tr style=\"text-align: right;\">\n",
              "      <th></th>\n",
              "      <th>Rank</th>\n",
              "      <th>CCA3</th>\n",
              "      <th>Country/Territory</th>\n",
              "      <th>Capital</th>\n",
              "      <th>Continent</th>\n",
              "      <th>2022 Population</th>\n",
              "      <th>2020 Population</th>\n",
              "      <th>2015 Population</th>\n",
              "      <th>2010 Population</th>\n",
              "      <th>2000 Population</th>\n",
              "      <th>1990 Population</th>\n",
              "      <th>1980 Population</th>\n",
              "      <th>1970 Population</th>\n",
              "      <th>Area (km²)</th>\n",
              "      <th>Density (per km²)</th>\n",
              "      <th>Growth Rate</th>\n",
              "      <th>World Population Percentage</th>\n",
              "    </tr>\n",
              "  </thead>\n",
              "  <tbody>\n",
              "    <tr>\n",
              "      <th>0</th>\n",
              "      <td>36</td>\n",
              "      <td>AFG</td>\n",
              "      <td>Afghanistan</td>\n",
              "      <td>Kabul</td>\n",
              "      <td>Asia</td>\n",
              "      <td>41128771</td>\n",
              "      <td>38972230</td>\n",
              "      <td>33753499</td>\n",
              "      <td>28189672</td>\n",
              "      <td>19542982</td>\n",
              "      <td>10694796</td>\n",
              "      <td>12486631</td>\n",
              "      <td>10752971</td>\n",
              "      <td>652230</td>\n",
              "      <td>63.0587</td>\n",
              "      <td>1.0257</td>\n",
              "      <td>0.52</td>\n",
              "    </tr>\n",
              "    <tr>\n",
              "      <th>1</th>\n",
              "      <td>138</td>\n",
              "      <td>ALB</td>\n",
              "      <td>Albania</td>\n",
              "      <td>Tirana</td>\n",
              "      <td>Europe</td>\n",
              "      <td>2842321</td>\n",
              "      <td>2866849</td>\n",
              "      <td>2882481</td>\n",
              "      <td>2913399</td>\n",
              "      <td>3182021</td>\n",
              "      <td>3295066</td>\n",
              "      <td>2941651</td>\n",
              "      <td>2324731</td>\n",
              "      <td>28748</td>\n",
              "      <td>98.8702</td>\n",
              "      <td>0.9957</td>\n",
              "      <td>0.04</td>\n",
              "    </tr>\n",
              "    <tr>\n",
              "      <th>2</th>\n",
              "      <td>34</td>\n",
              "      <td>DZA</td>\n",
              "      <td>Algeria</td>\n",
              "      <td>Algiers</td>\n",
              "      <td>Africa</td>\n",
              "      <td>44903225</td>\n",
              "      <td>43451666</td>\n",
              "      <td>39543154</td>\n",
              "      <td>35856344</td>\n",
              "      <td>30774621</td>\n",
              "      <td>25518074</td>\n",
              "      <td>18739378</td>\n",
              "      <td>13795915</td>\n",
              "      <td>2381741</td>\n",
              "      <td>18.8531</td>\n",
              "      <td>1.0164</td>\n",
              "      <td>0.56</td>\n",
              "    </tr>\n",
              "    <tr>\n",
              "      <th>3</th>\n",
              "      <td>213</td>\n",
              "      <td>ASM</td>\n",
              "      <td>American Samoa</td>\n",
              "      <td>Pago Pago</td>\n",
              "      <td>Oceania</td>\n",
              "      <td>44273</td>\n",
              "      <td>46189</td>\n",
              "      <td>51368</td>\n",
              "      <td>54849</td>\n",
              "      <td>58230</td>\n",
              "      <td>47818</td>\n",
              "      <td>32886</td>\n",
              "      <td>27075</td>\n",
              "      <td>199</td>\n",
              "      <td>222.4774</td>\n",
              "      <td>0.9831</td>\n",
              "      <td>0.00</td>\n",
              "    </tr>\n",
              "    <tr>\n",
              "      <th>4</th>\n",
              "      <td>203</td>\n",
              "      <td>AND</td>\n",
              "      <td>Andorra</td>\n",
              "      <td>Andorra la Vella</td>\n",
              "      <td>Europe</td>\n",
              "      <td>79824</td>\n",
              "      <td>77700</td>\n",
              "      <td>71746</td>\n",
              "      <td>71519</td>\n",
              "      <td>66097</td>\n",
              "      <td>53569</td>\n",
              "      <td>35611</td>\n",
              "      <td>19860</td>\n",
              "      <td>468</td>\n",
              "      <td>170.5641</td>\n",
              "      <td>1.0100</td>\n",
              "      <td>0.00</td>\n",
              "    </tr>\n",
              "  </tbody>\n",
              "</table>\n",
              "</div>\n",
              "    <div class=\"colab-df-buttons\">\n",
              "\n",
              "  <div class=\"colab-df-container\">\n",
              "    <button class=\"colab-df-convert\" onclick=\"convertToInteractive('df-7cf86218-8288-4be0-b3e3-d3cc61fdf2b9')\"\n",
              "            title=\"Convert this dataframe to an interactive table.\"\n",
              "            style=\"display:none;\">\n",
              "\n",
              "  <svg xmlns=\"http://www.w3.org/2000/svg\" height=\"24px\" viewBox=\"0 -960 960 960\">\n",
              "    <path d=\"M120-120v-720h720v720H120Zm60-500h600v-160H180v160Zm220 220h160v-160H400v160Zm0 220h160v-160H400v160ZM180-400h160v-160H180v160Zm440 0h160v-160H620v160ZM180-180h160v-160H180v160Zm440 0h160v-160H620v160Z\"/>\n",
              "  </svg>\n",
              "    </button>\n",
              "\n",
              "  <style>\n",
              "    .colab-df-container {\n",
              "      display:flex;\n",
              "      gap: 12px;\n",
              "    }\n",
              "\n",
              "    .colab-df-convert {\n",
              "      background-color: #E8F0FE;\n",
              "      border: none;\n",
              "      border-radius: 50%;\n",
              "      cursor: pointer;\n",
              "      display: none;\n",
              "      fill: #1967D2;\n",
              "      height: 32px;\n",
              "      padding: 0 0 0 0;\n",
              "      width: 32px;\n",
              "    }\n",
              "\n",
              "    .colab-df-convert:hover {\n",
              "      background-color: #E2EBFA;\n",
              "      box-shadow: 0px 1px 2px rgba(60, 64, 67, 0.3), 0px 1px 3px 1px rgba(60, 64, 67, 0.15);\n",
              "      fill: #174EA6;\n",
              "    }\n",
              "\n",
              "    .colab-df-buttons div {\n",
              "      margin-bottom: 4px;\n",
              "    }\n",
              "\n",
              "    [theme=dark] .colab-df-convert {\n",
              "      background-color: #3B4455;\n",
              "      fill: #D2E3FC;\n",
              "    }\n",
              "\n",
              "    [theme=dark] .colab-df-convert:hover {\n",
              "      background-color: #434B5C;\n",
              "      box-shadow: 0px 1px 3px 1px rgba(0, 0, 0, 0.15);\n",
              "      filter: drop-shadow(0px 1px 2px rgba(0, 0, 0, 0.3));\n",
              "      fill: #FFFFFF;\n",
              "    }\n",
              "  </style>\n",
              "\n",
              "    <script>\n",
              "      const buttonEl =\n",
              "        document.querySelector('#df-7cf86218-8288-4be0-b3e3-d3cc61fdf2b9 button.colab-df-convert');\n",
              "      buttonEl.style.display =\n",
              "        google.colab.kernel.accessAllowed ? 'block' : 'none';\n",
              "\n",
              "      async function convertToInteractive(key) {\n",
              "        const element = document.querySelector('#df-7cf86218-8288-4be0-b3e3-d3cc61fdf2b9');\n",
              "        const dataTable =\n",
              "          await google.colab.kernel.invokeFunction('convertToInteractive',\n",
              "                                                    [key], {});\n",
              "        if (!dataTable) return;\n",
              "\n",
              "        const docLinkHtml = 'Like what you see? Visit the ' +\n",
              "          '<a target=\"_blank\" href=https://colab.research.google.com/notebooks/data_table.ipynb>data table notebook</a>'\n",
              "          + ' to learn more about interactive tables.';\n",
              "        element.innerHTML = '';\n",
              "        dataTable['output_type'] = 'display_data';\n",
              "        await google.colab.output.renderOutput(dataTable, element);\n",
              "        const docLink = document.createElement('div');\n",
              "        docLink.innerHTML = docLinkHtml;\n",
              "        element.appendChild(docLink);\n",
              "      }\n",
              "    </script>\n",
              "  </div>\n",
              "\n",
              "\n",
              "<div id=\"df-920aac66-a989-4e98-b23b-68eedd560f95\">\n",
              "  <button class=\"colab-df-quickchart\" onclick=\"quickchart('df-920aac66-a989-4e98-b23b-68eedd560f95')\"\n",
              "            title=\"Suggest charts\"\n",
              "            style=\"display:none;\">\n",
              "\n",
              "<svg xmlns=\"http://www.w3.org/2000/svg\" height=\"24px\"viewBox=\"0 0 24 24\"\n",
              "     width=\"24px\">\n",
              "    <g>\n",
              "        <path d=\"M19 3H5c-1.1 0-2 .9-2 2v14c0 1.1.9 2 2 2h14c1.1 0 2-.9 2-2V5c0-1.1-.9-2-2-2zM9 17H7v-7h2v7zm4 0h-2V7h2v10zm4 0h-2v-4h2v4z\"/>\n",
              "    </g>\n",
              "</svg>\n",
              "  </button>\n",
              "\n",
              "<style>\n",
              "  .colab-df-quickchart {\n",
              "      --bg-color: #E8F0FE;\n",
              "      --fill-color: #1967D2;\n",
              "      --hover-bg-color: #E2EBFA;\n",
              "      --hover-fill-color: #174EA6;\n",
              "      --disabled-fill-color: #AAA;\n",
              "      --disabled-bg-color: #DDD;\n",
              "  }\n",
              "\n",
              "  [theme=dark] .colab-df-quickchart {\n",
              "      --bg-color: #3B4455;\n",
              "      --fill-color: #D2E3FC;\n",
              "      --hover-bg-color: #434B5C;\n",
              "      --hover-fill-color: #FFFFFF;\n",
              "      --disabled-bg-color: #3B4455;\n",
              "      --disabled-fill-color: #666;\n",
              "  }\n",
              "\n",
              "  .colab-df-quickchart {\n",
              "    background-color: var(--bg-color);\n",
              "    border: none;\n",
              "    border-radius: 50%;\n",
              "    cursor: pointer;\n",
              "    display: none;\n",
              "    fill: var(--fill-color);\n",
              "    height: 32px;\n",
              "    padding: 0;\n",
              "    width: 32px;\n",
              "  }\n",
              "\n",
              "  .colab-df-quickchart:hover {\n",
              "    background-color: var(--hover-bg-color);\n",
              "    box-shadow: 0 1px 2px rgba(60, 64, 67, 0.3), 0 1px 3px 1px rgba(60, 64, 67, 0.15);\n",
              "    fill: var(--button-hover-fill-color);\n",
              "  }\n",
              "\n",
              "  .colab-df-quickchart-complete:disabled,\n",
              "  .colab-df-quickchart-complete:disabled:hover {\n",
              "    background-color: var(--disabled-bg-color);\n",
              "    fill: var(--disabled-fill-color);\n",
              "    box-shadow: none;\n",
              "  }\n",
              "\n",
              "  .colab-df-spinner {\n",
              "    border: 2px solid var(--fill-color);\n",
              "    border-color: transparent;\n",
              "    border-bottom-color: var(--fill-color);\n",
              "    animation:\n",
              "      spin 1s steps(1) infinite;\n",
              "  }\n",
              "\n",
              "  @keyframes spin {\n",
              "    0% {\n",
              "      border-color: transparent;\n",
              "      border-bottom-color: var(--fill-color);\n",
              "      border-left-color: var(--fill-color);\n",
              "    }\n",
              "    20% {\n",
              "      border-color: transparent;\n",
              "      border-left-color: var(--fill-color);\n",
              "      border-top-color: var(--fill-color);\n",
              "    }\n",
              "    30% {\n",
              "      border-color: transparent;\n",
              "      border-left-color: var(--fill-color);\n",
              "      border-top-color: var(--fill-color);\n",
              "      border-right-color: var(--fill-color);\n",
              "    }\n",
              "    40% {\n",
              "      border-color: transparent;\n",
              "      border-right-color: var(--fill-color);\n",
              "      border-top-color: var(--fill-color);\n",
              "    }\n",
              "    60% {\n",
              "      border-color: transparent;\n",
              "      border-right-color: var(--fill-color);\n",
              "    }\n",
              "    80% {\n",
              "      border-color: transparent;\n",
              "      border-right-color: var(--fill-color);\n",
              "      border-bottom-color: var(--fill-color);\n",
              "    }\n",
              "    90% {\n",
              "      border-color: transparent;\n",
              "      border-bottom-color: var(--fill-color);\n",
              "    }\n",
              "  }\n",
              "</style>\n",
              "\n",
              "  <script>\n",
              "    async function quickchart(key) {\n",
              "      const quickchartButtonEl =\n",
              "        document.querySelector('#' + key + ' button');\n",
              "      quickchartButtonEl.disabled = true;  // To prevent multiple clicks.\n",
              "      quickchartButtonEl.classList.add('colab-df-spinner');\n",
              "      try {\n",
              "        const charts = await google.colab.kernel.invokeFunction(\n",
              "            'suggestCharts', [key], {});\n",
              "      } catch (error) {\n",
              "        console.error('Error during call to suggestCharts:', error);\n",
              "      }\n",
              "      quickchartButtonEl.classList.remove('colab-df-spinner');\n",
              "      quickchartButtonEl.classList.add('colab-df-quickchart-complete');\n",
              "    }\n",
              "    (() => {\n",
              "      let quickchartButtonEl =\n",
              "        document.querySelector('#df-920aac66-a989-4e98-b23b-68eedd560f95 button');\n",
              "      quickchartButtonEl.style.display =\n",
              "        google.colab.kernel.accessAllowed ? 'block' : 'none';\n",
              "    })();\n",
              "  </script>\n",
              "</div>\n",
              "\n",
              "    </div>\n",
              "  </div>\n"
            ],
            "application/vnd.google.colaboratory.intrinsic+json": {
              "type": "dataframe",
              "variable_name": "df",
              "summary": "{\n  \"name\": \"df\",\n  \"rows\": 234,\n  \"fields\": [\n    {\n      \"column\": \"Rank\",\n      \"properties\": {\n        \"dtype\": \"number\",\n        \"std\": 67,\n        \"min\": 1,\n        \"max\": 234,\n        \"num_unique_values\": 234,\n        \"samples\": [\n          184,\n          20,\n          218\n        ],\n        \"semantic_type\": \"\",\n        \"description\": \"\"\n      }\n    },\n    {\n      \"column\": \"CCA3\",\n      \"properties\": {\n        \"dtype\": \"string\",\n        \"num_unique_values\": 234,\n        \"samples\": [\n          \"GUF\",\n          \"THA\",\n          \"SMR\"\n        ],\n        \"semantic_type\": \"\",\n        \"description\": \"\"\n      }\n    },\n    {\n      \"column\": \"Country/Territory\",\n      \"properties\": {\n        \"dtype\": \"string\",\n        \"num_unique_values\": 234,\n        \"samples\": [\n          \"French Guiana\",\n          \"Thailand\",\n          \"San Marino\"\n        ],\n        \"semantic_type\": \"\",\n        \"description\": \"\"\n      }\n    },\n    {\n      \"column\": \"Capital\",\n      \"properties\": {\n        \"dtype\": \"string\",\n        \"num_unique_values\": 234,\n        \"samples\": [\n          \"Cayenne\",\n          \"Bangkok\",\n          \"San Marino\"\n        ],\n        \"semantic_type\": \"\",\n        \"description\": \"\"\n      }\n    },\n    {\n      \"column\": \"Continent\",\n      \"properties\": {\n        \"dtype\": \"category\",\n        \"num_unique_values\": 6,\n        \"samples\": [\n          \"Asia\",\n          \"Europe\",\n          \"South America\"\n        ],\n        \"semantic_type\": \"\",\n        \"description\": \"\"\n      }\n    },\n    {\n      \"column\": \"2022 Population\",\n      \"properties\": {\n        \"dtype\": \"number\",\n        \"std\": 136766424,\n        \"min\": 510,\n        \"max\": 1425887337,\n        \"num_unique_values\": 234,\n        \"samples\": [\n          304557,\n          71697030,\n          33660\n        ],\n        \"semantic_type\": \"\",\n        \"description\": \"\"\n      }\n    },\n    {\n      \"column\": \"2020 Population\",\n      \"properties\": {\n        \"dtype\": \"number\",\n        \"std\": 135589876,\n        \"min\": 520,\n        \"max\": 1424929781,\n        \"num_unique_values\": 234,\n        \"samples\": [\n          290969,\n          71475664,\n          34007\n        ],\n        \"semantic_type\": \"\",\n        \"description\": \"\"\n      }\n    },\n    {\n      \"column\": \"2015 Population\",\n      \"properties\": {\n        \"dtype\": \"number\",\n        \"std\": 130404992,\n        \"min\": 564,\n        \"max\": 1393715448,\n        \"num_unique_values\": 234,\n        \"samples\": [\n          257026,\n          70294397,\n          33570\n        ],\n        \"semantic_type\": \"\",\n        \"description\": \"\"\n      }\n    },\n    {\n      \"column\": \"2010 Population\",\n      \"properties\": {\n        \"dtype\": \"number\",\n        \"std\": 124218487,\n        \"min\": 596,\n        \"max\": 1348191368,\n        \"num_unique_values\": 234,\n        \"samples\": [\n          228453,\n          68270489,\n          31608\n        ],\n        \"semantic_type\": \"\",\n        \"description\": \"\"\n      }\n    },\n    {\n      \"column\": \"2000 Population\",\n      \"properties\": {\n        \"dtype\": \"number\",\n        \"std\": 111698206,\n        \"min\": 651,\n        \"max\": 1264099069,\n        \"num_unique_values\": 234,\n        \"samples\": [\n          164351,\n          63066603,\n          26823\n        ],\n        \"semantic_type\": \"\",\n        \"description\": \"\"\n      }\n    },\n    {\n      \"column\": \"1990 Population\",\n      \"properties\": {\n        \"dtype\": \"number\",\n        \"std\": 97832173,\n        \"min\": 700,\n        \"max\": 1153704252,\n        \"num_unique_values\": 234,\n        \"samples\": [\n          113931,\n          55228410,\n          23132\n        ],\n        \"semantic_type\": \"\",\n        \"description\": \"\"\n      }\n    },\n    {\n      \"column\": \"1980 Population\",\n      \"properties\": {\n        \"dtype\": \"number\",\n        \"std\": 81785186,\n        \"min\": 733,\n        \"max\": 982372466,\n        \"num_unique_values\": 234,\n        \"samples\": [\n          66825,\n          45737753,\n          21346\n        ],\n        \"semantic_type\": \"\",\n        \"description\": \"\"\n      }\n    },\n    {\n      \"column\": \"1970 Population\",\n      \"properties\": {\n        \"dtype\": \"number\",\n        \"std\": 67795091,\n        \"min\": 752,\n        \"max\": 822534450,\n        \"num_unique_values\": 234,\n        \"samples\": [\n          46484,\n          35791728,\n          18169\n        ],\n        \"semantic_type\": \"\",\n        \"description\": \"\"\n      }\n    },\n    {\n      \"column\": \"Area (km\\u00b2)\",\n      \"properties\": {\n        \"dtype\": \"number\",\n        \"std\": 1761840,\n        \"min\": 1,\n        \"max\": 17098242,\n        \"num_unique_values\": 233,\n        \"samples\": [\n          245857,\n          241550,\n          752612\n        ],\n        \"semantic_type\": \"\",\n        \"description\": \"\"\n      }\n    },\n    {\n      \"column\": \"Density (per km\\u00b2)\",\n      \"properties\": {\n        \"dtype\": \"number\",\n        \"std\": 2066.1219036046114,\n        \"min\": 0.0261,\n        \"max\": 23172.2667,\n        \"num_unique_values\": 234,\n        \"samples\": [\n          3.6459,\n          139.7276,\n          551.8033\n        ],\n        \"semantic_type\": \"\",\n        \"description\": \"\"\n      }\n    },\n    {\n      \"column\": \"Growth Rate\",\n      \"properties\": {\n        \"dtype\": \"number\",\n        \"std\": 0.013384984533998761,\n        \"min\": 0.912,\n        \"max\": 1.0691,\n        \"num_unique_values\": 180,\n        \"samples\": [\n          1.0038,\n          1.0005,\n          1.0232\n        ],\n        \"semantic_type\": \"\",\n        \"description\": \"\"\n      }\n    },\n    {\n      \"column\": \"World Population Percentage\",\n      \"properties\": {\n        \"dtype\": \"number\",\n        \"std\": 1.7149767768102138,\n        \"min\": 0.0,\n        \"max\": 17.88,\n        \"num_unique_values\": 70,\n        \"samples\": [\n          0.48,\n          0.52,\n          0.47\n        ],\n        \"semantic_type\": \"\",\n        \"description\": \"\"\n      }\n    }\n  ]\n}"
            }
          },
          "metadata": {},
          "execution_count": 56
        }
      ]
    },
    {
      "cell_type": "code",
      "source": [
        "top_10_country=df.nlargest(n=10,columns='2022 Population')['Country/Territory'].values\n",
        "top_10_country"
      ],
      "metadata": {
        "colab": {
          "base_uri": "https://localhost:8080/"
        },
        "id": "qZfF-a4Gz429",
        "outputId": "05371f9b-1ff0-480c-a1d5-18f913455c06"
      },
      "execution_count": 81,
      "outputs": [
        {
          "output_type": "execute_result",
          "data": {
            "text/plain": [
              "array(['China', 'India', 'United States', 'Indonesia', 'Pakistan',\n",
              "       'Nigeria', 'Brazil', 'Bangladesh', 'Russia', 'Mexico'],\n",
              "      dtype=object)"
            ]
          },
          "metadata": {},
          "execution_count": 81
        }
      ]
    },
    {
      "cell_type": "code",
      "source": [
        "top_10_population=df['2022 Population'].nlargest(n=10).values\n",
        "top_10_population"
      ],
      "metadata": {
        "colab": {
          "base_uri": "https://localhost:8080/"
        },
        "id": "EsuN6x2B0Rib",
        "outputId": "a29512af-6c7d-4fa9-9be8-3f26b257a747"
      },
      "execution_count": 65,
      "outputs": [
        {
          "output_type": "execute_result",
          "data": {
            "text/plain": [
              "array([1425887337, 1417173173,  338289857,  275501339,  235824862,\n",
              "        218541212,  215313498,  171186372,  144713314,  127504125])"
            ]
          },
          "metadata": {},
          "execution_count": 65
        }
      ]
    },
    {
      "cell_type": "markdown",
      "source": [
        "**Top 10 Countries with Highest Population**"
      ],
      "metadata": {
        "id": "Ij91lYws20Du"
      }
    },
    {
      "cell_type": "code",
      "source": [
        "plt.figure(figsize=(12,6))\n",
        "plt.bar(top_10_country,top_10_population)\n",
        "plt.title(\"Top 10 Countries with Highest Population\")\n",
        "plt.xlabel(\"Country\")\n",
        "plt.ylabel(\"Population(in billions)\")"
      ],
      "metadata": {
        "colab": {
          "base_uri": "https://localhost:8080/",
          "height": 582
        },
        "id": "ko4ePyWD01Pu",
        "outputId": "0157b541-f1af-4c06-f3f5-b2831f6db030"
      },
      "execution_count": 70,
      "outputs": [
        {
          "output_type": "execute_result",
          "data": {
            "text/plain": [
              "Text(0, 0.5, 'Population(in billions)')"
            ]
          },
          "metadata": {},
          "execution_count": 70
        },
        {
          "output_type": "display_data",
          "data": {
            "text/plain": [
              "<Figure size 1200x600 with 1 Axes>"
            ],
            "image/png": "[encoded data removed]"
          },
          "metadata": {}
        }
      ]
    },
    {
      "cell_type": "markdown",
      "source": [
        "**Top 10 Smallest Countries By Population**"
      ],
      "metadata": {
        "id": "IBse14in29oj"
      }
    },
    {
      "cell_type": "code",
      "source": [
        "top_lowest_country=df.nsmallest(n=10,columns='2022 Population')['Country/Territory'].values\n",
        "top_lowest_country"
      ],
      "metadata": {
        "colab": {
          "base_uri": "https://localhost:8080/"
        },
        "id": "aL6GSSsF1vKs",
        "outputId": "69dd722b-b187-4846-f073-5c967d4bb94f"
      },
      "execution_count": 71,
      "outputs": [
        {
          "output_type": "execute_result",
          "data": {
            "text/plain": [
              "array(['Vatican City', 'Tokelau', 'Niue', 'Falkland Islands',\n",
              "       'Montserrat', 'Saint Pierre and Miquelon', 'Saint Barthelemy',\n",
              "       'Tuvalu', 'Wallis and Futuna', 'Nauru'], dtype=object)"
            ]
          },
          "metadata": {},
          "execution_count": 71
        }
      ]
    },
    {
      "cell_type": "code",
      "source": [
        "top_lowest_population=df.nsmallest(n=10,columns='2022 Population')['2022 Population'].values\n",
        "top_lowest_population"
      ],
      "metadata": {
        "colab": {
          "base_uri": "https://localhost:8080/"
        },
        "id": "oMt8u4vI13I0",
        "outputId": "5d971ef6-4df7-493a-ab74-5f23bd4c6d7f"
      },
      "execution_count": 72,
      "outputs": [
        {
          "output_type": "execute_result",
          "data": {
            "text/plain": [
              "array([  510,  1871,  1934,  3780,  4390,  5862, 10967, 11312, 11572,\n",
              "       12668])"
            ]
          },
          "metadata": {},
          "execution_count": 72
        }
      ]
    },
    {
      "cell_type": "code",
      "source": [
        "plt.figure(figsize=(25,8))\n",
        "plt.bar(top_lowest_country,top_lowest_population)\n",
        "plt.title(\"Top 10 Countries with Lowest Population\")\n",
        "plt.xlabel(\"Country\")\n",
        "plt.ylabel(\"Population(in thousands)\")"
      ],
      "metadata": {
        "colab": {
          "base_uri": "https://localhost:8080/",
          "height": 417
        },
        "id": "IR_wxbac2DCx",
        "outputId": "bf9225b4-a7bb-4ae0-d053-c0d59ea22adf"
      },
      "execution_count": 78,
      "outputs": [
        {
          "output_type": "execute_result",
          "data": {
            "text/plain": [
              "Text(0, 0.5, 'Population(in thousands)')"
            ]
          },
          "metadata": {},
          "execution_count": 78
        },
        {
          "output_type": "display_data",
          "data": {
            "text/plain": [
              "<Figure size 2500x800 with 1 Axes>"
            ],
            "image/png": "[encoded data removed]"
          },
          "metadata": {}
        }
      ]
    },
    {
      "cell_type": "markdown",
      "source": [
        "**Top 10 Countries with highest growth rate**"
      ],
      "metadata": {
        "id": "3HWYd4Ik56Zr"
      }
    },
    {
      "cell_type": "code",
      "source": [
        "top_10_country_growth=df.nlargest(n=10,columns='Growth Rate')['Country/Territory'].values\n",
        "top_10_country_growth\n",
        "top_10_growth_rate=df.nlargest(n=10,columns='Growth Rate')['Growth Rate'].values\n",
        "top_10_growth_rate"
      ],
      "metadata": {
        "colab": {
          "base_uri": "https://localhost:8080/"
        },
        "id": "uXXcRlJm3IJp",
        "outputId": "4b019efb-e16a-47e1-a4e2-6d48f02b2adf"
      },
      "execution_count": 83,
      "outputs": [
        {
          "output_type": "execute_result",
          "data": {
            "text/plain": [
              "array([1.0691, 1.0404, 1.0378, 1.0376, 1.0359, 1.0325, 1.0319, 1.0316,\n",
              "       1.0315, 1.0314])"
            ]
          },
          "metadata": {},
          "execution_count": 83
        }
      ]
    },
    {
      "cell_type": "code",
      "source": [
        "plt.figure(figsize=(12,7))\n",
        "plt.bar(top_10_country_growth,top_10_growth_rate)\n",
        "plt.title(\"Top 10 Countries with Highest Growth Rate\")\n",
        "plt.xlabel(\"Country\")\n",
        "plt.ylabel(\"Growth Rate(in percentage)\")\n",
        "plt.show()"
      ],
      "metadata": {
        "colab": {
          "base_uri": "https://localhost:8080/",
          "height": 641
        },
        "id": "oh-zr9jb3k3K",
        "outputId": "80951f1a-bc9d-446f-ceb6-261e6b00ae2a"
      },
      "execution_count": 85,
      "outputs": [
        {
          "output_type": "display_data",
          "data": {
            "text/plain": [
              "<Figure size 1200x700 with 1 Axes>"
            ],
            "image/png": "[encoded data removed]"
          },
          "metadata": {}
        }
      ]
    },
    {
      "cell_type": "markdown",
      "source": [
        "Top 10 countries with lowest growth rate"
      ],
      "metadata": {
        "id": "XEsYfueW6BZ5"
      }
    },
    {
      "cell_type": "code",
      "source": [
        "top_10_country_lowest_growth=df.nsmallest(n=10,columns='Growth Rate')['Country/Territory'].values\n",
        "top_10_country_lowest_growth\n",
        "top_10_country_lowest_growth_rate=df.nsmallest(n=10,columns='Growth Rate')['Growth Rate'].values\n",
        "top_10_country_lowest_growth_rate"
      ],
      "metadata": {
        "colab": {
          "base_uri": "https://localhost:8080/"
        },
        "id": "0WpdDbsA5ooP",
        "outputId": "4e72ac68-9eb1-4df5-dd87-f2092ffa97bc"
      },
      "execution_count": 87,
      "outputs": [
        {
          "output_type": "execute_result",
          "data": {
            "text/plain": [
              "array([0.912 , 0.9816, 0.9831, 0.9849, 0.9869, 0.9876, 0.9886, 0.9886,\n",
              "       0.9897, 0.9927])"
            ]
          },
          "metadata": {},
          "execution_count": 87
        }
      ]
    },
    {
      "cell_type": "code",
      "source": [
        "plt.figure(figsize=(20,7))\n",
        "plt.bar(top_10_country_lowest_growth,top_10_country_lowest_growth_rate)\n",
        "plt.title(\"Top 10 Countries with Lowest Growth Rate\")\n",
        "plt.xlabel(\"Country\")\n",
        "plt.ylabel(\"Growth Rate(in percentage)\")\n",
        "plt.show()"
      ],
      "metadata": {
        "colab": {
          "base_uri": "https://localhost:8080/",
          "height": 442
        },
        "id": "SOMyHNCE6Sdd",
        "outputId": "abc0f376-88c3-46d9-ff15-f46dca0bbeeb"
      },
      "execution_count": 90,
      "outputs": [
        {
          "output_type": "display_data",
          "data": {
            "text/plain": [
              "<Figure size 2000x700 with 1 Axes>"
            ],
            "image/png": "[encoded data removed]"
          },
          "metadata": {}
        }
      ]
    },
    {
      "cell_type": "code",
      "source": [
        "top_10_country_highest_area=df.nlargest(n=10,columns='Area (km²)')['Country/Territory'].values\n",
        "top_10_country_highest_area\n",
        "top_10_area=df.nlargest(n=10,columns='Area (km²)')['Area (km²)'].values\n",
        "top_10_area"
      ],
      "metadata": {
        "colab": {
          "base_uri": "https://localhost:8080/"
        },
        "id": "rcUO8NwL6mBm",
        "outputId": "9a09d2b3-5fb0-463b-b097-8d22c1d29f58"
      },
      "execution_count": 96,
      "outputs": [
        {
          "output_type": "execute_result",
          "data": {
            "text/plain": [
              "array([17098242,  9984670,  9706961,  9372610,  8515767,  7692024,\n",
              "        3287590,  2780400,  2724900,  2381741])"
            ]
          },
          "metadata": {},
          "execution_count": 96
        }
      ]
    },
    {
      "cell_type": "code",
      "source": [
        "plt.figure(figsize=(20,7))\n",
        "plt.bar(top_10_country_highest_area,top_10_area)\n",
        "plt.title(\"Top 10 Countries with Highest Area\")\n",
        "plt.xlabel(\"Country\")\n",
        "plt.ylabel(\"Area(in km squared)(x 10^7)\")\n",
        "plt.show()"
      ],
      "metadata": {
        "colab": {
          "base_uri": "https://localhost:8080/",
          "height": 442
        },
        "id": "hT4WK5GQ7vU0",
        "outputId": "a9a698bc-3178-47ce-b29f-1ddde8cff483"
      },
      "execution_count": 99,
      "outputs": [
        {
          "output_type": "display_data",
          "data": {
            "text/plain": [
              "<Figure size 2000x700 with 1 Axes>"
            ],
            "image/png": "[encoded data removed]"
          },
          "metadata": {}
        }
      ]
    },
    {
      "cell_type": "code",
      "source": [
        "top_10_country_lowest_area=df.nsmallest(n=10,columns='Area (km²)')['Country/Territory'].values\n",
        "top_10_country_lowest_area\n",
        "top_10_area_lowest=df.nsmallest(n=10,columns='Area (km²)')['Area (km²)'].values\n",
        "top_10_area_lowest"
      ],
      "metadata": {
        "colab": {
          "base_uri": "https://localhost:8080/"
        },
        "id": "5c0Ctr6F8Xbu",
        "outputId": "71548cc9-7e38-4db7-acd9-6bf31708bd05"
      },
      "execution_count": 102,
      "outputs": [
        {
          "output_type": "execute_result",
          "data": {
            "text/plain": [
              "array([ 1,  2,  6, 12, 21, 21, 26, 30, 34, 53])"
            ]
          },
          "metadata": {},
          "execution_count": 102
        }
      ]
    },
    {
      "cell_type": "code",
      "source": [
        "plt.figure(figsize=(20,7))\n",
        "plt.bar(top_10_country_lowest_area,top_10_area_lowest)\n",
        "plt.title(\"Top 10 Countries with Lowest Area\")\n",
        "plt.xlabel(\"Country\")\n",
        "plt.ylabel(\"Area(in km squared)\")\n",
        "plt.show()"
      ],
      "metadata": {
        "colab": {
          "base_uri": "https://localhost:8080/",
          "height": 444
        },
        "id": "iugIT0th81hX",
        "outputId": "d5d4bff7-f77d-4804-f462-88e31e7ac78a"
      },
      "execution_count": 104,
      "outputs": [
        {
          "output_type": "display_data",
          "data": {
            "text/plain": [
              "<Figure size 2000x700 with 1 Axes>"
            ],
            "image/png": "[encoded data removed]"
          },
          "metadata": {}
        }
      ]
    }
  ]
}